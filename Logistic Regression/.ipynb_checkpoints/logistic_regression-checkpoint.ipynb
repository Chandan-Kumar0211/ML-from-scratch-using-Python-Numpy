{
 "cells": [
  {
   "cell_type": "code",
   "execution_count": 1,
   "id": "63922c18",
   "metadata": {},
   "outputs": [],
   "source": [
    "import numpy as np"
   ]
  },
  {
   "cell_type": "code",
   "execution_count": 2,
   "id": "06f9e187",
   "metadata": {},
   "outputs": [],
   "source": [
    "class LogisticRegression:\n",
    "    def __init__(self, lr=0.001, n_iter=1000):\n",
    "        self.lr = lr\n",
    "        self.n_iter = n_iter\n",
    "        self.weights = None\n",
    "        self.bias = None\n",
    "    \n",
    "    def fit(self,X,y):\n",
    "        n_samples, n_features = X.shape\n",
    "        \n",
    "        # Step:1- Initilizing the parameters\n",
    "        self.weights = np.zeros(n_features)\n",
    "        self.bias = 0\n",
    "        \n",
    "        # Calculating the gradients and applying gradient desent for updating parameters\n",
    "        for _ in range(self.n_iter):\n",
    "            y_pred = 1/(1+np.exp(-(np.dot(X,self.weights)+self.bias)))\n",
    "            \n",
    "            dw = (1/n_samples)*np.dot(X.T,(y_pred-y))\n",
    "            db = (1/n_samples)*np.sum(y_pred-y)\n",
    "            \n",
    "            self.weights = self.weights - self.lr*dw\n",
    "            self.bias = self.bias - self.lr*db\n",
    "    \n",
    "    def predict(self,X):\n",
    "        y_pred = 1/(1+np.exp(-(np.dot(X,self.weights)+self.bias)))\n",
    "        class_pred = []\n",
    "        for i in range(len(y_pred)):\n",
    "            if y_pred[i] <= 0.5:\n",
    "                class_pred.append(0)\n",
    "            else:\n",
    "                class_pred.append(1)\n",
    "        return class_pred \n",
    "        "
   ]
  }
 ],
 "metadata": {
  "kernelspec": {
   "display_name": "Python 3 (ipykernel)",
   "language": "python",
   "name": "python3"
  },
  "language_info": {
   "codemirror_mode": {
    "name": "ipython",
    "version": 3
   },
   "file_extension": ".py",
   "mimetype": "text/x-python",
   "name": "python",
   "nbconvert_exporter": "python",
   "pygments_lexer": "ipython3",
   "version": "3.9.12"
  }
 },
 "nbformat": 4,
 "nbformat_minor": 5
}
