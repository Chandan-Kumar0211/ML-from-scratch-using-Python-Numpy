{
 "cells": [
  {
   "cell_type": "code",
   "execution_count": 5,
   "id": "eb82d662",
   "metadata": {},
   "outputs": [],
   "source": [
    "import numpy as np"
   ]
  },
  {
   "cell_type": "code",
   "execution_count": 6,
   "id": "4cfb998c",
   "metadata": {},
   "outputs": [],
   "source": [
    "def eucledian_dist(a,b):\n",
    "    return np.sqrt(np.sum((a-b)**2))"
   ]
  },
  {
   "cell_type": "code",
   "execution_count": 9,
   "id": "9f2e82ee",
   "metadata": {},
   "outputs": [
    {
     "name": "stdout",
     "output_type": "stream",
     "text": [
      "13.0\n"
     ]
    }
   ],
   "source": [
    "# verifying eucledian_dist function\n",
    "\n",
    "x1 = np.array([15,14])\n",
    "x2 = np.array([3,9])\n",
    "\n",
    "d = eucledian_dist(x1,x2)\n",
    "print(d)"
   ]
  },
  {
   "cell_type": "code",
   "execution_count": 11,
   "id": "f834b59c",
   "metadata": {},
   "outputs": [],
   "source": [
    "class KNNclassifier:\n",
    "    def __init__(self,k=5):\n",
    "        self.k = k\n",
    "    \n",
    "    def fit(self,X_train,y_train):\n",
    "        # Since in KNN there is no training involved, so we can simply pass the X_train and y_train values for fitting the model\n",
    "        self.X_train = X_train\n",
    "        self.y_train = y_train\n",
    "    \n",
    "    def predict(self,X_test):\n",
    "        predictions = []\n",
    "        for x_i in self.X_test:\n",
    "            \n",
    "            # Step:1- Calculating the distance btw each X_test sample from whole X_train sample\n",
    "            distance = []\n",
    "            for x_j in self.X_train:\n",
    "                dist = eucledian_dist(x_i,x_j)\n",
    "                distance.append(dist)\n",
    "            \n",
    "            # Step:2- Finding K nearest neighbours and their labels\n",
    "            k_indices = np.argsort(distance)[:self.k]\n",
    "            \n",
    "            k_nearest_labels = [self.y_train[i] for i in k_indices]\n",
    "            \n",
    "            # Step:3- Now getting the most common labels for Classification i.e. label with majority vote\n",
    "            lables = {}\n",
    "            for i in k_nearest_labels:\n",
    "                if i not in labels.keys():\n",
    "                    labels[i] = 0\n",
    "                else:\n",
    "                    pass\n",
    "                    \n",
    "        \n",
    "                \n",
    "         \n",
    "    "
   ]
  },
  {
   "cell_type": "code",
   "execution_count": null,
   "id": "f3317f71",
   "metadata": {},
   "outputs": [],
   "source": []
  },
  {
   "cell_type": "code",
   "execution_count": null,
   "id": "736c2b44",
   "metadata": {},
   "outputs": [],
   "source": []
  },
  {
   "cell_type": "code",
   "execution_count": null,
   "id": "20a8a935",
   "metadata": {},
   "outputs": [],
   "source": []
  },
  {
   "cell_type": "code",
   "execution_count": null,
   "id": "77c4653b",
   "metadata": {},
   "outputs": [],
   "source": []
  },
  {
   "cell_type": "code",
   "execution_count": null,
   "id": "c54799de",
   "metadata": {},
   "outputs": [],
   "source": []
  },
  {
   "cell_type": "code",
   "execution_count": null,
   "id": "b9453371",
   "metadata": {},
   "outputs": [],
   "source": []
  },
  {
   "cell_type": "code",
   "execution_count": null,
   "id": "55311061",
   "metadata": {},
   "outputs": [],
   "source": []
  }
 ],
 "metadata": {
  "kernelspec": {
   "display_name": "Python 3 (ipykernel)",
   "language": "python",
   "name": "python3"
  },
  "language_info": {
   "codemirror_mode": {
    "name": "ipython",
    "version": 3
   },
   "file_extension": ".py",
   "mimetype": "text/x-python",
   "name": "python",
   "nbconvert_exporter": "python",
   "pygments_lexer": "ipython3",
   "version": "3.9.12"
  }
 },
 "nbformat": 4,
 "nbformat_minor": 5
}
