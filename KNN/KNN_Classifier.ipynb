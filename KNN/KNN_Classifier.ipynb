{
 "cells": [
  {
   "cell_type": "code",
   "execution_count": 1,
   "id": "eb82d662",
   "metadata": {},
   "outputs": [],
   "source": [
    "import numpy as np"
   ]
  },
  {
   "cell_type": "code",
   "execution_count": 2,
   "id": "4cfb998c",
   "metadata": {},
   "outputs": [],
   "source": [
    "def eucledian_dist(a,b):\n",
    "    return np.sqrt(np.sum((a-b)**2))"
   ]
  },
  {
   "cell_type": "code",
   "execution_count": 3,
   "id": "f834b59c",
   "metadata": {},
   "outputs": [],
   "source": [
    "class KNNclassifier:\n",
    "    def __init__(self,k=5):\n",
    "        self.k = k\n",
    "    \n",
    "    def fit(self,X_train,y_train):\n",
    "        # Since in KNN there is no training involved, so we can simply pass the X_train and y_train values for fitting the model\n",
    "        self.X_train = X_train\n",
    "        self.y_train = y_train\n",
    "    \n",
    "    def predict(self,X_test):\n",
    "        predictions = []\n",
    "        for x_i in X_test:\n",
    "            \n",
    "            # Step:1- Calculating the distance btw each X_test sample from whole X_train sample\n",
    "            distance = []\n",
    "            for x_j in self.X_train:\n",
    "                dist = eucledian_dist(x_i,x_j)\n",
    "                distance.append(dist)\n",
    "            \n",
    "            # Step:2- Finding K nearest neighbours and their labels\n",
    "            k_indices = np.argsort(distance)[:self.k]\n",
    "            \n",
    "            k_nearest_labels = [self.y_train[i] for i in k_indices]\n",
    "            \n",
    "            # Step:3- Now getting the most common labels for Classification i.e. label with majority vote\n",
    "            labels_dict = {}\n",
    "            for i in k_nearest_labels:\n",
    "                if i not in labels_dict.keys():\n",
    "                    labels_dict[i] = 1\n",
    "                else:\n",
    "                    labels_dict[i] = labels_dict[i] + 1\n",
    "            \n",
    "            values_list = list(labels_dict.values())\n",
    "            sorted_list_indices = np.argsort(values_list)\n",
    "            max_label_indices = sorted_list_indices[-1]\n",
    "            \n",
    "            keys_list = list(labels_dict)\n",
    "            most_common_label = keys_list[max_label_indices]\n",
    "            \n",
    "            predictions.append(most_common_label) \n",
    "        \n",
    "        return predictions\n",
    "            \n",
    "         \n",
    "    "
   ]
  }
 ],
 "metadata": {
  "kernelspec": {
   "display_name": "Python 3 (ipykernel)",
   "language": "python",
   "name": "python3"
  },
  "language_info": {
   "codemirror_mode": {
    "name": "ipython",
    "version": 3
   },
   "file_extension": ".py",
   "mimetype": "text/x-python",
   "name": "python",
   "nbconvert_exporter": "python",
   "pygments_lexer": "ipython3",
   "version": "3.9.12"
  }
 },
 "nbformat": 4,
 "nbformat_minor": 5
}
