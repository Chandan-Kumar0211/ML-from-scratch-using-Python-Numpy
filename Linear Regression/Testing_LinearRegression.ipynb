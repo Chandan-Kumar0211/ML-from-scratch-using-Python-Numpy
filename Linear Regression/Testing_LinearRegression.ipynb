{
 "cells": [
  {
   "cell_type": "code",
   "execution_count": 1,
   "id": "1306fb1d",
   "metadata": {},
   "outputs": [],
   "source": [
    "# importing basic libraries\n",
    "\n",
    "import numpy as np\n",
    "import pandas as pd\n",
    "import matplotlib.pyplot as plt\n",
    "%matplotlib inline\n",
    "\n",
    "from sklearn.model_selection import train_test_split\n",
    "from sklearn import datasets"
   ]
  },
  {
   "cell_type": "code",
   "execution_count": 2,
   "id": "61530c77",
   "metadata": {},
   "outputs": [],
   "source": [
    "# Creating a sample dataset and spliting it\n",
    "\n",
    "X,y = datasets.make_regression(n_samples=100,n_features=2,noise=20,random_state=44)\n",
    "\n",
    "X_train,X_test, y_train,y_test = train_test_split(X,y,test_size=0.3,random_state=20)"
   ]
  },
  {
   "cell_type": "code",
   "execution_count": 3,
   "id": "d410b0f4",
   "metadata": {},
   "outputs": [],
   "source": [
    "# importing our linear regression class\n",
    "\n",
    "from linear_regression import LinearRegression"
   ]
  },
  {
   "cell_type": "code",
   "execution_count": 12,
   "id": "deee9fa6",
   "metadata": {},
   "outputs": [
    {
     "name": "stdout",
     "output_type": "stream",
     "text": [
      "[-2.59984953e+01 -1.68384358e+02 -7.51255548e+01 -1.26372028e+02\n",
      " -1.10941256e+02  9.81016829e+01  8.05431263e+01  7.89519685e+01\n",
      "  4.81796333e+01 -7.22901273e+01  3.72562849e+01 -8.38685864e+01\n",
      " -2.52303114e+01 -1.70614428e+02 -2.25814935e+01  5.58349383e+01\n",
      " -2.83501974e+01 -4.42286202e+01  9.12469943e+01  1.04222149e+02\n",
      "  5.60522444e+01  1.62846173e+01 -4.50414876e+01  7.14055299e+01\n",
      " -3.77506141e+01  1.95808510e+01 -4.56497996e+00  4.72047364e+01\n",
      " -6.87485850e+01  1.15614523e-01]\n"
     ]
    }
   ],
   "source": [
    "reg = LinearRegression(lr=0.01)\n",
    "reg.fit(X_train,y_train)\n",
    "y_pred = reg.predict(X_test)\n",
    "print(y_pred)"
   ]
  },
  {
   "cell_type": "code",
   "execution_count": 13,
   "id": "ee33b625",
   "metadata": {},
   "outputs": [
    {
     "data": {
      "text/plain": [
       "434.18870851173494"
      ]
     },
     "execution_count": 13,
     "metadata": {},
     "output_type": "execute_result"
    }
   ],
   "source": [
    "# finding mean squared error(MSE):\n",
    "\n",
    "def mse(y_true,y_pred):\n",
    "    return np.mean((y_true-y_pred)**2)\n",
    "\n",
    "error = mse(y_test,y_pred)\n",
    "error"
   ]
  },
  {
   "cell_type": "code",
   "execution_count": null,
   "id": "0425f79f",
   "metadata": {},
   "outputs": [],
   "source": []
  },
  {
   "cell_type": "code",
   "execution_count": null,
   "id": "d8e87329",
   "metadata": {},
   "outputs": [],
   "source": []
  },
  {
   "cell_type": "code",
   "execution_count": null,
   "id": "212a6b9a",
   "metadata": {},
   "outputs": [],
   "source": []
  },
  {
   "cell_type": "code",
   "execution_count": null,
   "id": "00dc3f00",
   "metadata": {},
   "outputs": [],
   "source": []
  },
  {
   "cell_type": "code",
   "execution_count": null,
   "id": "55302e60",
   "metadata": {},
   "outputs": [],
   "source": []
  },
  {
   "cell_type": "code",
   "execution_count": null,
   "id": "755d1d18",
   "metadata": {},
   "outputs": [],
   "source": []
  },
  {
   "cell_type": "code",
   "execution_count": null,
   "id": "a5eee4e8",
   "metadata": {},
   "outputs": [],
   "source": []
  },
  {
   "cell_type": "code",
   "execution_count": null,
   "id": "c41ba344",
   "metadata": {},
   "outputs": [],
   "source": []
  }
 ],
 "metadata": {
  "kernelspec": {
   "display_name": "Python 3 (ipykernel)",
   "language": "python",
   "name": "python3"
  },
  "language_info": {
   "codemirror_mode": {
    "name": "ipython",
    "version": 3
   },
   "file_extension": ".py",
   "mimetype": "text/x-python",
   "name": "python",
   "nbconvert_exporter": "python",
   "pygments_lexer": "ipython3",
   "version": "3.9.12"
  }
 },
 "nbformat": 4,
 "nbformat_minor": 5
}
