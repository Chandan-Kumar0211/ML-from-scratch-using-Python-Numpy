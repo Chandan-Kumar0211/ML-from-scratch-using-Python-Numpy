{
 "cells": [
  {
   "cell_type": "code",
   "execution_count": 1,
   "id": "f785854c",
   "metadata": {},
   "outputs": [],
   "source": [
    "import numpy as np"
   ]
  },
  {
   "cell_type": "code",
   "execution_count": 2,
   "id": "f7b80b0c",
   "metadata": {},
   "outputs": [],
   "source": [
    "class LinearRegression:\n",
    "    \n",
    "    def __init__(self, lr=0.001, n_iter=1000):\n",
    "        self.lr = lr\n",
    "        self.n_iter = n_iter\n",
    "        self.weights = None\n",
    "        self.bias = None\n",
    "    \n",
    "    def fit(self,X,y):\n",
    "        n_samples, n_features = X.shape\n",
    "        \n",
    "        # Step:1- Initilizing the parameters\n",
    "        self.weights = np.zeros(n_features)\n",
    "        self.bias = 0\n",
    "        \n",
    "        # Step:2- Calculating gradients and applying gradient desent for updating weights\n",
    "        for i in range(self.n_iter):\n",
    "            y_pred = np.dot(X,self.weights) + self.bias\n",
    "            \n",
    "            dw = (1/n_samples)*np.dot(X.T,(y_pred-y))\n",
    "            db = (1/n_samples)*np.sum(y_pred-y)\n",
    "            \n",
    "            self.weights = self.weights - self.lr*dw\n",
    "            self.bias = self.bias - self.lr*db\n",
    "        \n",
    "    def predict(self,X):\n",
    "        y_pred = np.dot(X,self.weights) + self.bias\n",
    "        return y_pred"
   ]
  }
 ],
 "metadata": {
  "kernelspec": {
   "display_name": "Python 3 (ipykernel)",
   "language": "python",
   "name": "python3"
  },
  "language_info": {
   "codemirror_mode": {
    "name": "ipython",
    "version": 3
   },
   "file_extension": ".py",
   "mimetype": "text/x-python",
   "name": "python",
   "nbconvert_exporter": "python",
   "pygments_lexer": "ipython3",
   "version": "3.9.12"
  }
 },
 "nbformat": 4,
 "nbformat_minor": 5
}
